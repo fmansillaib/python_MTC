{
 "cells": [
  {
   "cell_type": "markdown",
   "id": "a60700f2-3412-4ce5-b012-026d6e85cb50",
   "metadata": {},
   "source": [
    "# Imputación Missing Value con Regresión Lineal Simple\n",
    "##### Mayor información: https://github.com/fmansillaib/python_MTC\n",
    "##### Personal Page: https://francomansilla.com"
   ]
  },
  {
   "cell_type": "markdown",
   "id": "f17cadd5-4c89-4935-86e2-1639ee6e2ef6",
   "metadata": {},
   "source": [
    "#### Paso 1: Cargar la Base de Datos "
   ]
  },
  {
   "cell_type": "code",
   "execution_count": null,
   "id": "a9751f39-eb34-41d3-a8a0-2ed65095edac",
   "metadata": {},
   "outputs": [],
   "source": [
    "import pandas as pd\n",
    "df = pd.read_excel(\".../BD. MTC.xlsx\")\n",
    "df.head()"
   ]
  },
  {
   "cell_type": "markdown",
   "id": "f6d88c04-48e0-46c2-9517-251d050c8f57",
   "metadata": {},
   "source": [
    "##### ---- ~ -----\n",
    "##### Nota 1: La variable ventas es la variable target, para una posterior modelelo supervisado.\n",
    "##### Nota 2: Desde la variable gast_x# hasta cost_x# son variables que tiene missing value (NaN) lo cual habra que imputar.\n",
    "##### ---- ~ -----"
   ]
  },
  {
   "cell_type": "markdown",
   "id": "a034cbca-a5c4-4709-9c9a-fe667c335615",
   "metadata": {},
   "source": [
    "#### Paso 2: Análisis de Missing Value"
   ]
  },
  {
   "cell_type": "code",
   "execution_count": null,
   "id": "5e01adb9-417e-4bf9-9c9b-d4390fee86e9",
   "metadata": {},
   "outputs": [],
   "source": [
    "for i in df.columns.tolist():\n",
    "    porc_i = round(df[i].isnull().sum()/len(df[i]),4)*100\n",
    "    print(i+\"=\", porc_i)"
   ]
  },
  {
   "cell_type": "markdown",
   "id": "0b05ecad-3a47-4f14-aaae-9cdaacc7458f",
   "metadata": {},
   "source": [
    "##### ---- ~ -----\n",
    "##### Nota 3: Si encontramos una variable sobre un estandar, por ejemplo, 15% de missing value, se puede evaluar eliminar la variable.\n",
    "##### ---- ~ -----"
   ]
  },
  {
   "cell_type": "markdown",
   "id": "dd3f3061-6013-42c1-b9e9-6e9d3b089245",
   "metadata": {},
   "source": [
    "##### Paso 3: Imputación de Missing Value"
   ]
  },
  {
   "cell_type": "markdown",
   "id": "ad57cd61-c433-46d1-912a-d1937f42fe05",
   "metadata": {},
   "source": [
    "##### Paso 3.1. Criterios a considerar:\n",
    "###### 1. Considera variables con 2 o más valores unicos.\n",
    "###### 2. Considera variables con menos del umbral de missing value; este caso 15%.\n",
    "###### 3. Considera variables dicotomicas, es decir, contenga 2 valores discretos (0 ó 1) u otra combinación.\n",
    "###### 4. Considera variables categoricas, es decir, variable contenga 3 o más valores discretos. \n",
    "###### 5. Considera variables categoricas con caracter continuo, es decir, variable contenga # o más valores discretos. "
   ]
  },
  {
   "cell_type": "markdown",
   "id": "1bcb9332-d590-4411-94aa-96dd81c7703c",
   "metadata": {},
   "source": [
    "##### ---- ~ -----"
   ]
  },
  {
   "cell_type": "markdown",
   "id": "97fa05a7-bd54-4c26-9813-4922ce01fdc5",
   "metadata": {},
   "source": [
    "##### Paso 3.2. Descripción Imputación\n",
    "###### La variable ing_x2 tiene 6.72% de missing value. Lo usual en un modelo es: $ventas = \\beta_0 + \\beta_1*ing _x2$\n",
    "###### Nota 4: Para realizar la imputación, se utilizara solo la $\\textbf{información}$ disponible de $\\textbf{ing_x2}$ pero solo de la muestra $\\textbf{train}$. \n",
    "###### Esto se realizara para realizar el siguiente modelo: $ing_x2 = \\beta_0 + \\beta_1*ventas$"
   ]
  },
  {
   "cell_type": "markdown",
   "id": "664b5c59-4b89-4ce3-a1a3-e78a0aba71be",
   "metadata": {},
   "source": [
    "##### ---- ~ -----"
   ]
  },
  {
   "cell_type": "markdown",
   "id": "0aca5a4e-be03-423f-a89d-c8c4826ad0cf",
   "metadata": {},
   "source": [
    "##### Paso 3.3. Código de Imputación"
   ]
  },
  {
   "cell_type": "code",
   "execution_count": null,
   "id": "cb84571d-3eac-4e33-a4c4-d822a0a16a4d",
   "metadata": {},
   "outputs": [],
   "source": [
    "# df a imputar\n",
    "df_new = df.copy()\n",
    "\n",
    "# df con valores sin na y filtro\n",
    "df_var = df.filter(regex = 'ing|cost' , axis = 1)\n",
    "# o\n",
    "var_nd = ['ventas', 'muestra']\n",
    "#Variables a imputar\n",
    "var_x = [x for x in df_new.columns if x not in var_nd]"
   ]
  },
  {
   "cell_type": "code",
   "execution_count": null,
   "id": "1b9985d6-9429-4b49-a0bf-1a357ff9773b",
   "metadata": {},
   "outputs": [],
   "source": [
    "from sklearn.linear_model import LinearRegression\n",
    "\n",
    "for i in df_var.columns.tolist():  #ó poner for i in var_x:\n",
    "    \n",
    "    umbral_unique = 10 # Scalar\n",
    "    umbral_nan = 0.1 # Scalar\n",
    "    target = 'venta' # Columna df.\n",
    "    muestra = 'muestra' # Columna df.\n",
    "    ventana = 'Train' # Atributo de la Columna Muestra.\n",
    "    \n",
    "    #Criterio 1: Umbral de Missing Value\n",
    "    porc_i = round(df[i].isnull().sum()/len(df[i]),4)\n",
    "    \n",
    "    #Criterio 2: Cantidad de Valores Unicos\n",
    "    unique_val = df[i].loc[df[muestra]==ventana].nunique()\n",
    "    \n",
    "    # Imputación por Regresión variables continuas y categorias de caracter continuas.\n",
    "    if porc_i <= umbral_nan and unique_val >= umbral_unique:\n",
    "        \n",
    "        print('La variable '+i ,'fue imputada con REGRESIÓN LINEAL', 'con',+unique_val,'valores únicos y',porc_i, 'valores perdidos.' )        \n",
    "        \n",
    "        # Regresión Lineal \n",
    "        y = df[target].loc[(df[i].notnull()) & (df[muestra]==ventana)].values.reshape(-1, 1)\n",
    "        X = df[i].loc[(df[i].notnull()) & (df[muestra]==ventana)].values.reshape(-1, 1)\n",
    "\n",
    "        lr = LinearRegression()\n",
    "        lr.fit(y, X)\n",
    "        b0 = lr.intercept_\n",
    "        b1 = lr.coef_\n",
    "        \n",
    "        # Calculo de Mediana en Ventas cuando X(i) es Null\n",
    "        p50 =  df[target].loc[(df[i].isnull()) & (df[muestra]==ventana)].median()\n",
    "        \n",
    "        # Valor de X(i) que deberia ir en el NaN de la variable X(i)\n",
    "        value_p50 = b0 + b1 * p50\n",
    "        \n",
    "        # Reemplazo en el dataframe copy los NaN de la variable X(i)\n",
    "        df_new[i].fillna(value_p50[0,0], inplace = True)\n",
    "    \n",
    "    # Elimina variables con MISSING VALUE mayor al Umbral y un único valor en los valores únicos.\n",
    "    elif porc_i > umbral_nan or unique_val <= 1:\n",
    "        \n",
    "        print('La variable '+i ,'fue ELIMINADA por tener',porc_i, 'valores perdidos.' )        \n",
    "        df_new.drop(i, axis = 1, inplace = True)\n",
    "        \n",
    "    # Imputación por Valor Faltantes a varaibles dicotomicas y variables con menos de 15 categorias\n",
    "    elif unique_val > 1  & unique_val < umbral_unique:\n",
    "        print('La variable '+i ,'fue imputada por VALOR FALTANTE', 'con',+unique_val,'valores únicos y',porc_i, 'valores perdidos.' )        \n",
    "        \n",
    "        #Calculo máximo valor\n",
    "        value_max = df[i].max()\n",
    "        #Valor máximo +1\n",
    "        value_mas1 = value_max + 1\n",
    "        #Reemplazar NaN por el Valor asignado.\n",
    "        df_new[i].fillna(value_mas1, inplace = True)\n",
    "#FIN"
   ]
  },
  {
   "cell_type": "code",
   "execution_count": null,
   "id": "db952b79-1521-4682-8e8b-d4a809f827d3",
   "metadata": {},
   "outputs": [],
   "source": [
    "df_new.isnull().sum()"
   ]
  },
  {
   "cell_type": "code",
   "execution_count": null,
   "id": "cc25e977-62df-4cbc-ab37-9fbb1645ce93",
   "metadata": {},
   "outputs": [],
   "source": [
    "df_new.head()"
   ]
  }
 ],
 "metadata": {
  "kernelspec": {
   "display_name": "Python 3 (ipykernel)",
   "language": "python",
   "name": "python3"
  },
  "language_info": {
   "codemirror_mode": {
    "name": "ipython",
    "version": 3
   },
   "file_extension": ".py",
   "mimetype": "text/x-python",
   "name": "python",
   "nbconvert_exporter": "python",
   "pygments_lexer": "ipython3",
   "version": "3.9.7"
  }
 },
 "nbformat": 4,
 "nbformat_minor": 5
}
